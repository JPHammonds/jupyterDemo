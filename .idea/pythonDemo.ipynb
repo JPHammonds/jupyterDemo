{
 "cells": [
  {
   "cell_type": "markdown",
   "metadata": {},
   "source": [
    "## Imports\n",
    "As with any other Python code pages in Jupyter require imports to use installed packages.  Packages here are limited to those installed in your environment.  you can also add some informative information such as this using the markdown language provided.  Just like other web/Wiki pages you can add things like lists, tables, etc.\n",
    "\n",
    "Included here are:\n",
    "* The first line is required to use matplotlib in the Jupyter pages\n",
    "* Use Pete Jemian's spec2nexus reader to probe a spec file\n",
    "* Later we will use Matplotlib to plot some data from the spec file"
   ]
  },
  {
   "cell_type": "code",
   "execution_count": null,
   "metadata": {
    "collapsed": true
   },
   "outputs": [],
   "source": [
    "%matplotlib inline\n",
    "%ipython inline\n",
    "from spec2nexus.spec import SpecDataFile\n",
    "import matplotlib.pyplot as plt"
   ]
  },
  {
   "cell_type": "markdown",
   "metadata": {},
   "source": [
    "## Define user inputs here\n",
    "For now we will just input the filename"
   ]
  },
  {
   "cell_type": "code",
   "execution_count": null,
   "metadata": {
    "collapsed": true
   },
   "outputs": [],
   "source": [
    "filename = \"/Users/hammonds/RSM/Fe2O3_2/YSZ111_1.spc\""
   ]
  },
  {
   "cell_type": "markdown",
   "metadata": {},
   "source": [
    "## Do some work\n",
    "Here we will open a spec file, read how many scans and print this out.  Then print out some information for each scan."
   ]
  },
  {
   "cell_type": "code",
   "execution_count": null,
   "metadata": {
    "collapsed": false
   },
   "outputs": [],
   "source": [
    "sd = SpecDataFile(filename)\n",
    "numScans = sd.getMaxScanNumber()\n",
    "print \"number of scans \" + numScans\n",
    "for s in range(1, int(numScans)+1):\n",
    "    print sd.scans[str(s)]"
   ]
  },
  {
   "cell_type": "markdown",
   "metadata": {},
   "source": [
    "## More input\n",
    "Now that we can see some things about what is in the file, We can ask for some more specific info.  I am still learning the spec2nexus library so I get some info about what is provided in the scan using\n",
    "> print dir(myScan)"
   ]
  },
  {
   "cell_type": "code",
   "execution_count": null,
   "metadata": {
    "collapsed": false
   },
   "outputs": [],
   "source": [
    "scanIWantToSee = 53\n",
    "myScan = sd.scans[str(scanIWantToSee)]\n",
    "print dir(myScan)"
   ]
  },
  {
   "cell_type": "markdown",
   "metadata": {},
   "source": [
    "## More exploring\n",
    "Now we have learned that a **scan** object has something called *data*.  I remember that this is a dictionary and has some data I want to see more about it.  I examine using keys() method and then pick one of the keys.\n"
   ]
  },
  {
   "cell_type": "code",
   "execution_count": null,
   "metadata": {
    "collapsed": false
   },
   "outputs": [],
   "source": [
    "print myScan.data.keys()\n",
    "print myScan.data['phi']"
   ]
  },
  {
   "cell_type": "markdown",
   "metadata": {},
   "source": [
    "## Plot some data\n",
    "We chose a scan that steps through phi.  I recognize I00 as a beam monitor output.  Lets plot I00 vs. Phi using matplotlib"
   ]
  },
  {
   "cell_type": "code",
   "execution_count": null,
   "metadata": {
    "collapsed": false
   },
   "outputs": [],
   "source": [
    "x = myScan.data['phi']\n",
    "y = myScan.data['I00']\n",
    "plt.plot(x,y)\n",
    "plt.show()"
   ]
  },
  {
   "cell_type": "code",
   "execution_count": null,
   "metadata": {
    "collapsed": true
   },
   "outputs": [],
   "source": []
  },
  {
   "cell_type": "code",
   "execution_count": null,
   "metadata": {
    "collapsed": true
   },
   "outputs": [],
   "source": []
  }
 ],
 "metadata": {
  "anaconda-cloud": {},
  "kernelspec": {
   "display_name": "Python [jupyterDemo]",
   "language": "python",
   "name": "Python [jupyterDemo]"
  },
  "language_info": {
   "codemirror_mode": {
    "name": "ipython",
    "version": 2
   },
   "file_extension": ".py",
   "mimetype": "text/x-python",
   "name": "python",
   "nbconvert_exporter": "python",
   "pygments_lexer": "ipython2",
   "version": "2.7.12"
  }
 },
 "nbformat": 4,
 "nbformat_minor": 0
}
