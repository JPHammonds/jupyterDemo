{
 "cells": [
  {
   "cell_type": "markdown",
   "metadata": {},
   "source": [
    "## Imports\n",
    "As with any other Python code pages in Jupyter require imports to use installed packages.  Packages here are limited to those installed in your environment.  you can also add some informative information such as this using the markdown language provided.  Just like other web/Wiki pages you can add things like lists, tables, etc.\n",
    "\n",
    "Included here are:\n",
    "* The first line is required to use matplotlib in the Jupyter pages\n",
    "* Use Pete Jemian's spec2nexus reader to probe a spec file\n",
    "* Later we will use Matplotlib to plot some data from the spec file"
   ]
  },
  {
   "cell_type": "code",
   "execution_count": 1,
   "metadata": {
    "collapsed": true
   },
   "outputs": [],
   "source": [
    "%matplotlib inline\n",
    "from spec2nexus.spec import SpecDataFile\n",
    "import matplotlib.pyplot as plt\n",
    "from ipywidgets import interact, interactive\n",
    "import ipywidgets as widgets\n",
    "from IPython.display import display"
   ]
  },
  {
   "cell_type": "markdown",
   "metadata": {},
   "source": [
    "## Define user inputs here\n",
    "For now we will just input the filename"
   ]
  },
  {
   "cell_type": "code",
   "execution_count": 2,
   "metadata": {
    "collapsed": true
   },
   "outputs": [],
   "source": [
    "filename = \"/Users/hammonds/RSM/Fe2O3_2/YSZ111_1.spc\""
   ]
  },
  {
   "cell_type": "markdown",
   "metadata": {},
   "source": [
    "## Do some work\n",
    "Here we will open a spec file, read how many scans and print this out.  Then print out some information for each scan."
   ]
  },
  {
   "cell_type": "code",
   "execution_count": 3,
   "metadata": {
    "collapsed": false
   },
   "outputs": [
    {
     "name": "stdout",
     "output_type": "stream",
     "text": [
      "number of scans 69\n",
      "1  ascan  z 14.355 15.555  60 0.1\n",
      "2  ascan  th 15.9268 16.1268  80 0.05\n",
      "3  ascan  chi 89.8027 90.4027  80 0.05\n",
      "4  ascan  tth 31.5415 32.1415  80 0.05\n",
      "5  ascan  phi 90.07 90.47  40 0.1\n",
      "6  ascan  chi 53.7365 55.3365  80 0.05\n",
      "7  ascan  phi 90.115 90.515  40 0.1\n",
      "8  ascan  tth 25.6925 26.1925  80 0.05\n",
      "9  ascan  phi -29.975 -29.575  40 0.1\n",
      "10  ascan  chi 144.047 145.647  80 0.05\n",
      "11  ascan  phi -30.08 -29.68  40 0.1\n",
      "12  ascan  tth 36.766 37.266  80 0.05\n",
      "13  ascan  phi 30.46 30.86  40 0.1\n",
      "14  ascan  chi 59.6152 61.2152  80 0.05\n",
      "15  ascan  phi 30.405 30.805  40 0.1\n",
      "16  ascan  tth 30.2707 30.7707  80 0.05\n",
      "17  ascan  phi -180 180  240 2\n",
      "18  ascan  phi -180 180  240 2\n",
      "19  ascan  phi -180 180  248 2\n",
      "20  ascan  phi -180 180  329 2\n",
      "21  ascan  phi -180 180  414 2\n",
      "22  ascan  phi -180 180  502 2\n",
      "23  ascan  phi -180 180  594 2\n",
      "24  ascan  phi -180 180  692 2\n",
      "25  ascan  phi -180 180  797 2\n",
      "26  ascan  phi -180 180  910 2\n",
      "27  ascan  phi -180 180  1034 2\n",
      "28  ascan  phi -180 180  1172 2\n",
      "29  ascan  phi -180 180  240 2\n",
      "30  ascan  phi -180 180  240 2\n",
      "31  ascan  phi -180 180  240 2\n",
      "32  ascan  phi -180 180  261 2\n",
      "33  ascan  phi -180 180  325 2\n",
      "34  ascan  phi -180 180  392 2\n",
      "35  ascan  phi -180 180  460 2\n",
      "36  ascan  phi -180 180  531 2\n",
      "37  ascan  phi -180 180  605 2\n",
      "38  ascan  phi -180 180  683 2\n",
      "39  ascan  phi -180 180  765 2\n",
      "40  ascan  phi -180 180  851 2\n",
      "41  ascan  phi -180 180  944 2\n",
      "42  ascan  phi -180 180  1044 2\n",
      "43  ascan  phi -180 180  1152 2\n",
      "44  ascan  phi -180 180  1270 2\n",
      "45  ascan  phi -180 180  240 2\n",
      "46  ascan  phi -180 180  240 2\n",
      "47  ascan  phi -180 180  240 2\n",
      "48  ascan  phi -180 180  240 2\n",
      "49  ascan  phi -180 180  240 2\n",
      "50  ascan  phi -180 180  241 2\n",
      "51  ascan  phi -180 180  280 2\n",
      "52  ascan  phi -180 180  320 2\n",
      "53  ascan  phi -180 180  360 2\n",
      "54  ascan  phi -180 180  402 2\n",
      "55  ascan  phi -180 180  444 2\n",
      "56  ascan  phi -180 180  486 2\n",
      "57  ascan  phi -180 180  530 2\n",
      "58  ascan  phi -180 180  575 2\n",
      "59  ascan  phi -180 180  622 2\n",
      "60  ascan  phi -180 180  669 2\n",
      "61  ascan  phi -180 180  718 2\n",
      "62  ascan  phi -180 180  769 2\n",
      "63  ascan  phi -180 180  822 2\n",
      "64  ascan  phi -180 180  877 2\n",
      "65  ascan  phi -180 180  934 2\n",
      "66  ascan  phi -180 180  994 2\n",
      "67  ascan  phi -180 180  1057 2\n",
      "68  ascan  phi -180 180  1123 2\n",
      "69  ascan  phi -180 180  1193 2\n"
     ]
    }
   ],
   "source": [
    "sd = SpecDataFile(filename)\n",
    "numScans = sd.getMaxScanNumber()\n",
    "print \"number of scans \" + numScans\n",
    "for s in range(1, int(numScans)+1):\n",
    "    print sd.scans[str(s)]"
   ]
  },
  {
   "cell_type": "markdown",
   "metadata": {},
   "source": [
    "## More input\n",
    "Now that we can see some things about what is in the file, We can ask for some more specific info.  I am still learning the spec2nexus library so I get some info about what is provided in the scan using\n",
    "> print dir(myScan)\n"
   ]
  },
  {
   "cell_type": "code",
   "execution_count": 4,
   "metadata": {
    "collapsed": false
   },
   "outputs": [
    {
     "name": "stdout",
     "output_type": "stream",
     "text": [
      "['G', 'L', 'M', 'N', 'P', 'Q', 'S', 'T', 'V', '__class__', '__delattr__', '__dict__', '__doc__', '__format__', '__getattribute__', '__hash__', '__init__', '__interpreted__', '__lazy_interpret__', '__module__', '__new__', '__reduce__', '__reduce_ex__', '__repr__', '__setattr__', '__sizeof__', '__str__', '__subclasshook__', '__weakref__', '_interpret_data_row', '_unique_key', 'addH5writer', 'addPostProcessor', 'column_first', 'column_last', 'comments', 'data', 'data_lines', 'date', 'get_macro_name', 'h5writers', 'header', 'interpret', 'parent', 'positioner', 'postprocessors', 'raw', 'scanCmd', 'scanNum', 'specFile']\n"
     ]
    }
   ],
   "source": [
    "scanIWantToSee = 53\n",
    "myScan = sd.scans[str(scanIWantToSee)]\n",
    "print dir(myScan)"
   ]
  },
  {
   "cell_type": "markdown",
   "metadata": {},
   "source": [
    "## Define a function"
   ]
  },
  {
   "cell_type": "code",
   "execution_count": 7,
   "metadata": {
    "collapsed": true
   },
   "outputs": [],
   "source": [
    "def printScanInfo(scanNo):\n",
    "    return str(sd.scans[str(scanNo)])\n",
    "    #return scanNo"
   ]
  },
  {
   "cell_type": "markdown",
   "metadata": {},
   "source": [
    "## Widgets"
   ]
  },
  {
   "cell_type": "code",
   "execution_count": 8,
   "metadata": {
    "collapsed": false
   },
   "outputs": [
    {
     "data": {
      "text/plain": [
       "'23  ascan  phi -180 180  594 2'"
      ]
     },
     "metadata": {},
     "output_type": "display_data"
    }
   ],
   "source": [
    "interact(printScanInfo, scanNo=widgets.IntSlider(min=1,max=int(numScans),step=1,value=1));\n"
   ]
  },
  {
   "cell_type": "markdown",
   "metadata": {},
   "source": [
    "## More exploring\n",
    "Now we have learned that a **scan** object has something called *data*.  I remember that this is a dictionary and has some data I want to see more about it.  I examine using keys() method and then pick one of the keys.\n"
   ]
  },
  {
   "cell_type": "code",
   "execution_count": null,
   "metadata": {
    "collapsed": false
   },
   "outputs": [],
   "source": [
    "print myScan.data.keys()\n",
    "print myScan.data['phi']"
   ]
  },
  {
   "cell_type": "markdown",
   "metadata": {},
   "source": [
    "## Plot some data\n",
    "We chose a scan that steps through phi.  I recognize I00 as a beam monitor output.  Lets plot I00 vs. Phi using matplotlib"
   ]
  },
  {
   "cell_type": "code",
   "execution_count": null,
   "metadata": {
    "collapsed": false
   },
   "outputs": [],
   "source": [
    "x = myScan.data['phi']\n",
    "y = myScan.data['I00']\n",
    "plt.plot(x,y)\n",
    "plt.show()"
   ]
  },
  {
   "cell_type": "code",
   "execution_count": null,
   "metadata": {
    "collapsed": true
   },
   "outputs": [],
   "source": []
  },
  {
   "cell_type": "code",
   "execution_count": null,
   "metadata": {
    "collapsed": true
   },
   "outputs": [],
   "source": []
  }
 ],
 "metadata": {
  "kernelspec": {
   "display_name": "Python 2",
   "language": "python",
   "name": "python2"
  },
  "language_info": {
   "codemirror_mode": {
    "name": "ipython",
    "version": 2
   },
   "file_extension": ".py",
   "mimetype": "text/x-python",
   "name": "python",
   "nbconvert_exporter": "python",
   "pygments_lexer": "ipython2",
   "version": "2.7.12"
  }
 },
 "nbformat": 4,
 "nbformat_minor": 0
}
