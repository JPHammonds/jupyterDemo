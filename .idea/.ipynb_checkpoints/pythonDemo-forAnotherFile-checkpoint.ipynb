{
 "cells": [
  {
   "cell_type": "markdown",
   "metadata": {},
   "source": [
    "## Imports\n",
    "As with any other Python code pages in Jupyter require imports to use installed packages.  Packages here are limited to those installed in your environment.  you can also add some informative information such as this using the markdown language provided.  Just like other web/Wiki pages you can add things like lists, tables, etc.\n",
    "\n",
    "Included here are:\n",
    "* The first line is required to use matplotlib in the Jupyter pages\n",
    "* Use Pete Jemian's spec2nexus reader to probe a spec file\n",
    "* Later we will use Matplotlib to plot some data from the spec file"
   ]
  },
  {
   "cell_type": "code",
   "execution_count": 4,
   "metadata": {
    "collapsed": true
   },
   "outputs": [],
   "source": [
    "%matplotlib inline\n",
    "from spec2nexus.spec import SpecDataFile\n",
    "import matplotlib.pyplot as plt"
   ]
  },
  {
   "cell_type": "markdown",
   "metadata": {},
   "source": [
    "## Define user inputs here\n",
    "For now we will just input the filename"
   ]
  },
  {
   "cell_type": "code",
   "execution_count": 5,
   "metadata": {
    "collapsed": true
   },
   "outputs": [],
   "source": [
    "filename = \"/Users/hammonds/RSM/Fe2O3_2/YSZ111_1.spc\""
   ]
  },
  {
   "cell_type": "markdown",
   "metadata": {},
   "source": [
    "## Do some work\n",
    "Here we will open a spec file, read how many scans and print this out.  Then print out some information for each scan."
   ]
  },
  {
   "cell_type": "code",
   "execution_count": 6,
   "metadata": {
    "collapsed": false
   },
   "outputs": [
    {
     "name": "stdout",
     "output_type": "stream",
     "text": [
      "number of scans 69\n",
      "1  ascan  z 14.355 15.555  60 0.1\n",
      "2  ascan  th 15.9268 16.1268  80 0.05\n",
      "3  ascan  chi 89.8027 90.4027  80 0.05\n",
      "4  ascan  tth 31.5415 32.1415  80 0.05\n",
      "5  ascan  phi 90.07 90.47  40 0.1\n",
      "6  ascan  chi 53.7365 55.3365  80 0.05\n",
      "7  ascan  phi 90.115 90.515  40 0.1\n",
      "8  ascan  tth 25.6925 26.1925  80 0.05\n",
      "9  ascan  phi -29.975 -29.575  40 0.1\n",
      "10  ascan  chi 144.047 145.647  80 0.05\n",
      "11  ascan  phi -30.08 -29.68  40 0.1\n",
      "12  ascan  tth 36.766 37.266  80 0.05\n",
      "13  ascan  phi 30.46 30.86  40 0.1\n",
      "14  ascan  chi 59.6152 61.2152  80 0.05\n",
      "15  ascan  phi 30.405 30.805  40 0.1\n",
      "16  ascan  tth 30.2707 30.7707  80 0.05\n",
      "17  ascan  phi -180 180  240 2\n",
      "18  ascan  phi -180 180  240 2\n",
      "19  ascan  phi -180 180  248 2\n",
      "20  ascan  phi -180 180  329 2\n",
      "21  ascan  phi -180 180  414 2\n",
      "22  ascan  phi -180 180  502 2\n",
      "23  ascan  phi -180 180  594 2\n",
      "24  ascan  phi -180 180  692 2\n",
      "25  ascan  phi -180 180  797 2\n",
      "26  ascan  phi -180 180  910 2\n",
      "27  ascan  phi -180 180  1034 2\n",
      "28  ascan  phi -180 180  1172 2\n",
      "29  ascan  phi -180 180  240 2\n",
      "30  ascan  phi -180 180  240 2\n",
      "31  ascan  phi -180 180  240 2\n",
      "32  ascan  phi -180 180  261 2\n",
      "33  ascan  phi -180 180  325 2\n",
      "34  ascan  phi -180 180  392 2\n",
      "35  ascan  phi -180 180  460 2\n",
      "36  ascan  phi -180 180  531 2\n",
      "37  ascan  phi -180 180  605 2\n",
      "38  ascan  phi -180 180  683 2\n",
      "39  ascan  phi -180 180  765 2\n",
      "40  ascan  phi -180 180  851 2\n",
      "41  ascan  phi -180 180  944 2\n",
      "42  ascan  phi -180 180  1044 2\n",
      "43  ascan  phi -180 180  1152 2\n",
      "44  ascan  phi -180 180  1270 2\n",
      "45  ascan  phi -180 180  240 2\n",
      "46  ascan  phi -180 180  240 2\n",
      "47  ascan  phi -180 180  240 2\n",
      "48  ascan  phi -180 180  240 2\n",
      "49  ascan  phi -180 180  240 2\n",
      "50  ascan  phi -180 180  241 2\n",
      "51  ascan  phi -180 180  280 2\n",
      "52  ascan  phi -180 180  320 2\n",
      "53  ascan  phi -180 180  360 2\n",
      "54  ascan  phi -180 180  402 2\n",
      "55  ascan  phi -180 180  444 2\n",
      "56  ascan  phi -180 180  486 2\n",
      "57  ascan  phi -180 180  530 2\n",
      "58  ascan  phi -180 180  575 2\n",
      "59  ascan  phi -180 180  622 2\n",
      "60  ascan  phi -180 180  669 2\n",
      "61  ascan  phi -180 180  718 2\n",
      "62  ascan  phi -180 180  769 2\n",
      "63  ascan  phi -180 180  822 2\n",
      "64  ascan  phi -180 180  877 2\n",
      "65  ascan  phi -180 180  934 2\n",
      "66  ascan  phi -180 180  994 2\n",
      "67  ascan  phi -180 180  1057 2\n",
      "68  ascan  phi -180 180  1123 2\n",
      "69  ascan  phi -180 180  1193 2\n"
     ]
    }
   ],
   "source": [
    "sd = SpecDataFile(filename)\n",
    "numScans = sd.getMaxScanNumber()\n",
    "print \"number of scans \" + numScans\n",
    "for s in range(1, int(numScans)+1):\n",
    "    print sd.scans[str(s)]"
   ]
  },
  {
   "cell_type": "markdown",
   "metadata": {},
   "source": [
    "## More input\n",
    "Now that we can see some things about what is in the file, We can ask for some more specific info.  I am still learning the spec2nexus library so I get some info about what is provided in the scan using\n",
    "> print dir(myScan)\n"
   ]
  },
  {
   "cell_type": "code",
   "execution_count": 7,
   "metadata": {
    "collapsed": false
   },
   "outputs": [
    {
     "name": "stdout",
     "output_type": "stream",
     "text": [
      "['G', 'L', 'M', 'N', 'P', 'Q', 'S', 'T', 'V', '__class__', '__delattr__', '__dict__', '__doc__', '__format__', '__getattribute__', '__hash__', '__init__', '__interpreted__', '__lazy_interpret__', '__module__', '__new__', '__reduce__', '__reduce_ex__', '__repr__', '__setattr__', '__sizeof__', '__str__', '__subclasshook__', '__weakref__', '_interpret_data_row', '_unique_key', 'addH5writer', 'addPostProcessor', 'column_first', 'column_last', 'comments', 'data', 'data_lines', 'date', 'get_macro_name', 'h5writers', 'header', 'interpret', 'parent', 'positioner', 'postprocessors', 'raw', 'scanCmd', 'scanNum', 'specFile']\n"
     ]
    }
   ],
   "source": [
    "scanIWantToSee = 53\n",
    "myScan = sd.scans[str(scanIWantToSee)]\n",
    "print dir(myScan)"
   ]
  },
  {
   "cell_type": "markdown",
   "metadata": {},
   "source": [
    "## More exploring\n",
    "Now we have learned that a **scan** object has something called *data*.  I remember that this is a dictionary and has some data I want to see more about it.  I examine using keys() method and then pick one of the keys.\n"
   ]
  },
  {
   "cell_type": "code",
   "execution_count": 50,
   "metadata": {
    "collapsed": false
   },
   "outputs": [
    {
     "name": "stdout",
     "output_type": "stream",
     "text": [
      "['TempC', 'adsca1', 'adsca2', 'piltot', 'pilY', 'pilX', 'Temp_sa', 'rfamp', 'sca1', 'Epoch', 'scanbar', 'filters', 'ccdnet', 'imroi3', 'Temp_sp', 'ima', 'imsca4', 'chGain', 'imsca1', 'imsca3', 'imsca2', 'roi21', 'I0', 'roiCTR', 'imroi2', 'rfpwr', 'ubsync', 'cybtot', 'icr', 'ocr', 'corrdet', 'chVout', 'chIout', 'Temp_pw', 'phi', 'chIVout', 'seconds', 'H', 'K', 'imroi1', 'Temp_cs', 'L', 'imroi4', 'ccdtot', 'livet', 'rfset', 'imtot', 'vortot', 'sca2', 'cybUL', 'admax', 'cybLL', 'Energy', 'roi1_24', 'roi43', 'realt', 'I00', 'emv', 'immax', 'trans', 'signal']\n",
      "[-179.5, -178.49, -177.49, -176.48, -175.48, -174.47, -173.47, -172.46, -171.46, -170.45, -169.45, -168.44, -167.44, -166.43, -165.43, -164.42, -163.415, -162.41, -161.41, -160.4, -159.4, -158.39, -157.385, -156.38, -155.38, -154.37, -153.37, -152.365, -151.355, -150.35, -149.35, -148.34, -147.34, -146.33, -145.325, -144.32, -143.32, -142.31, -141.31, -140.3, -139.295, -138.29, -137.29, -136.28, -135.28, -134.27, -133.265, -132.26, -131.26, -130.25, -129.25, -128.24, -127.24, -126.23, -125.23, -124.22, -123.22, -122.21, -121.21, -120.2, -119.2, -118.19, -117.19, -116.18, -115.18, -114.17, -113.165, -112.16, -111.16, -110.15, -109.15, -108.14, -107.135, -106.13, -105.13, -104.12, -103.12, -102.11, -101.105, -100.1, -99.1, -98.09, -97.09, -96.08, -95.075, -94.07, -93.07, -92.06, -91.055, -90.05, -89.045, -88.04, -87.04, -86.03, -85.025, -84.02, -83.015, -82.01, -81.005, -80.0, -78.995, -77.99, -76.985, -75.98, -74.975, -73.97, -72.965, -71.96, -70.955, -69.95, -68.945, -67.94, -66.935, -65.93, -64.925, -63.92, -62.915, -61.91, -60.905, -59.9, -58.895, -57.89, -56.885, -55.88, -54.875, -53.87, -52.865, -51.86, -50.855, -49.85, -48.85, -47.84, -46.835, -45.83, -44.825, -43.82, -42.82, -41.81, -40.805, -39.8, -38.795, -37.79, -36.785, -35.78, -34.775, -33.77, -32.765, -31.76, -30.755, -29.75, -28.745, -27.74, -26.735, -25.73, -24.725, -23.72, -22.715, -21.71, -20.705, -19.7, -18.695, -17.69, -16.685, -15.68, -14.675, -13.67, -12.665, -11.66, -10.655, -9.65, -8.645, -7.64, -6.635, -5.63, -4.625, -3.62, -2.615, -1.61, -0.605, 0.4, 1.405, 2.41, 3.415, 4.42, 5.425, 6.43, 7.435, 8.44, 9.445, 10.45, 11.455, 12.46, 13.465, 14.47, 15.475, 16.48, 17.485, 18.49, 19.495, 20.5, 21.505, 22.51, 23.515, 24.52, 25.525, 26.53, 27.535, 28.54, 29.545, 30.55, 31.555, 32.56, 33.565, 34.57, 35.575, 36.58, 37.585, 38.59, 39.595, 40.6, 41.605, 42.61, 43.615, 44.62, 45.625, 46.63, 47.635, 48.64, 49.645, 50.65, 51.655, 52.66, 53.665, 54.67, 55.675, 56.68, 57.685, 58.69, 59.695, 60.7, 61.705, 62.71, 63.715, 64.72, 65.725, 66.73, 67.735, 68.74, 69.745, 70.75, 71.755, 72.76, 73.765, 74.77, 75.775, 76.78, 77.785, 78.79, 79.795, 80.8, 81.805, 82.81, 83.815, 84.82, 85.825, 86.83, 87.835, 88.84, 89.845, 90.85, 91.855, 92.86, 93.865, 94.87, 95.875, 96.88, 97.885, 98.89, 99.895, 100.9, 101.905, 102.91, 103.915, 104.92, 105.925, 106.93, 107.935, 108.94, 109.945, 110.95, 111.955, 112.96, 113.965, 114.97, 115.975, 116.98, 117.985, 118.99, 119.99, 121.0, 122.005, 123.01, 124.015, 125.02, 126.025, 127.03, 128.035, 129.04, 130.045, 131.05, 132.05, 133.06, 134.065, 135.07, 136.075, 137.08, 138.085, 139.09, 140.095, 141.1, 142.105, 143.11, 144.115, 145.12, 146.125, 147.13, 148.135, 149.14, 150.145, 151.15, 152.155, 153.16, 154.165, 155.17, 156.175, 157.18, 158.185, 159.19, 160.195, 161.2, 162.205, 163.21, 164.215, 165.22, 166.225, 167.23, 168.23, 169.24, 170.245, 171.25, 172.255, 173.26, 174.265, 175.27, 176.275, 177.28, 178.285, 179.29, 180.29]\n"
     ]
    }
   ],
   "source": [
    "print myScan.data.keys()\n",
    "print myScan.data['phi']"
   ]
  },
  {
   "cell_type": "markdown",
   "metadata": {},
   "source": [
    "## Plot some data\n",
    "We chose a scan that steps through phi.  I recognize I00 as a beam monitor output.  Lets plot I00 vs. Phi using matplotlib"
   ]
  },
  {
   "cell_type": "code",
   "execution_count": 8,
   "metadata": {
    "collapsed": false
   },
   "outputs": [
    {
     "data": {
      "image/png": "[encoded data removed]",
      "text/plain": [
       "<matplotlib.figure.Figure at 0x106a39e50>"
      ]
     },
     "metadata": {},
     "output_type": "display_data"
    }
   ],
   "source": [
    "x = myScan.data['phi']\n",
    "y = myScan.data['I00']\n",
    "plt.plot(x,y)\n",
    "plt.show()"
   ]
  },
  {
   "cell_type": "code",
   "execution_count": null,
   "metadata": {
    "collapsed": true
   },
   "outputs": [],
   "source": []
  },
  {
   "cell_type": "code",
   "execution_count": null,
   "metadata": {
    "collapsed": true
   },
   "outputs": [],
   "source": []
  }
 ],
 "metadata": {
  "kernelspec": {
   "display_name": "Python 2",
   "language": "python",
   "name": "python2"
  },
  "language_info": {
   "codemirror_mode": {
    "name": "ipython",
    "version": 2
   },
   "file_extension": ".py",
   "mimetype": "text/x-python",
   "name": "python",
   "nbconvert_exporter": "python",
   "pygments_lexer": "ipython2",
   "version": "2.7.12"
  }
 },
 "nbformat": 4,
 "nbformat_minor": 0
}
